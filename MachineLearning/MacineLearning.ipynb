{
 "cells": [
  {
   "cell_type": "markdown",
   "metadata": {},
   "source": [
    "# <span style=\"color:#0b486b\">SIT307 - Assessment 2</span>\n",
    "\n",
    "## <span style=\"color:#0b486b\">Cleaning Data</span>\n",
    "\n",
    "This section of the assessment is critical to ensure that the data source is valid and removes any outliers.  These can lead to invalid or skewed results once analysis is undertaken if they remain.  The following is broken down into specific groups to ensure that it can be easily audited by other users."
   ]
  },
  {
   "cell_type": "code",
   "execution_count": 1,
   "metadata": {},
   "outputs": [],
   "source": [
    "from scipy import stats\n",
    "from scipy.stats import zscore\n",
    "from sklearn import tree\n",
    "from sklearn.model_selection import train_test_split\n",
    "from sklearn.metrics import accuracy_score\n",
    "from sklearn.tree import DecisionTreeClassifier\n",
    "from sklearn.model_selection import cross_val_score\n",
    "from sklearn.model_selection import validation_curve\n",
    "\n",
    "import numpy as np\n",
    "import pandas as pd\n",
    "import matplotlib.pyplot as plt\n",
    "import seaborn as sns\n",
    "import math"
   ]
  },
  {
   "cell_type": "code",
   "execution_count": 2,
   "metadata": {},
   "outputs": [
    {
     "data": {
      "text/html": [
       "<div>\n",
       "<style scoped>\n",
       "    .dataframe tbody tr th:only-of-type {\n",
       "        vertical-align: middle;\n",
       "    }\n",
       "\n",
       "    .dataframe tbody tr th {\n",
       "        vertical-align: top;\n",
       "    }\n",
       "\n",
       "    .dataframe thead th {\n",
       "        text-align: right;\n",
       "    }\n",
       "</style>\n",
       "<table border=\"1\" class=\"dataframe\">\n",
       "  <thead>\n",
       "    <tr style=\"text-align: right;\">\n",
       "      <th></th>\n",
       "      <th>id</th>\n",
       "      <th>region</th>\n",
       "      <th>price</th>\n",
       "      <th>year</th>\n",
       "      <th>manufacturer</th>\n",
       "      <th>model</th>\n",
       "      <th>fuel</th>\n",
       "      <th>odometer</th>\n",
       "      <th>transmission</th>\n",
       "      <th>drive</th>\n",
       "      <th>type</th>\n",
       "      <th>paint_color</th>\n",
       "      <th>state</th>\n",
       "    </tr>\n",
       "  </thead>\n",
       "  <tbody>\n",
       "    <tr>\n",
       "      <th>0</th>\n",
       "      <td>7088743681</td>\n",
       "      <td>greensboro</td>\n",
       "      <td>3995</td>\n",
       "      <td>2004.0</td>\n",
       "      <td>honda</td>\n",
       "      <td>element</td>\n",
       "      <td>gas</td>\n",
       "      <td>212526.0</td>\n",
       "      <td>automatic</td>\n",
       "      <td>fwd</td>\n",
       "      <td>SUV</td>\n",
       "      <td>orange</td>\n",
       "      <td>nc</td>\n",
       "    </tr>\n",
       "    <tr>\n",
       "      <th>1</th>\n",
       "      <td>7088741418</td>\n",
       "      <td>greensboro</td>\n",
       "      <td>10995</td>\n",
       "      <td>2014.0</td>\n",
       "      <td>chevrolet</td>\n",
       "      <td>traverse</td>\n",
       "      <td>gas</td>\n",
       "      <td>112383.0</td>\n",
       "      <td>automatic</td>\n",
       "      <td>fwd</td>\n",
       "      <td>SUV</td>\n",
       "      <td>black</td>\n",
       "      <td>nc</td>\n",
       "    </tr>\n",
       "    <tr>\n",
       "      <th>2</th>\n",
       "      <td>7088737004</td>\n",
       "      <td>greensboro</td>\n",
       "      <td>3995</td>\n",
       "      <td>2007.0</td>\n",
       "      <td>toyota</td>\n",
       "      <td>solara</td>\n",
       "      <td>gas</td>\n",
       "      <td>185123.0</td>\n",
       "      <td>automatic</td>\n",
       "      <td>fwd</td>\n",
       "      <td>convertible</td>\n",
       "      <td>black</td>\n",
       "      <td>nc</td>\n",
       "    </tr>\n",
       "    <tr>\n",
       "      <th>3</th>\n",
       "      <td>7088732376</td>\n",
       "      <td>greensboro</td>\n",
       "      <td>7995</td>\n",
       "      <td>2008.0</td>\n",
       "      <td>nissan</td>\n",
       "      <td>frontier</td>\n",
       "      <td>gas</td>\n",
       "      <td>162214.0</td>\n",
       "      <td>automatic</td>\n",
       "      <td>fwd</td>\n",
       "      <td>pickup</td>\n",
       "      <td>red</td>\n",
       "      <td>nc</td>\n",
       "    </tr>\n",
       "    <tr>\n",
       "      <th>4</th>\n",
       "      <td>7093461424</td>\n",
       "      <td>denver</td>\n",
       "      <td>7995</td>\n",
       "      <td>2010.0</td>\n",
       "      <td>chevrolet</td>\n",
       "      <td>silverado 1500 4wd</td>\n",
       "      <td>gas</td>\n",
       "      <td>194050.0</td>\n",
       "      <td>automatic</td>\n",
       "      <td>4wd</td>\n",
       "      <td>truck</td>\n",
       "      <td>white</td>\n",
       "      <td>co</td>\n",
       "    </tr>\n",
       "    <tr>\n",
       "      <th>...</th>\n",
       "      <td>...</td>\n",
       "      <td>...</td>\n",
       "      <td>...</td>\n",
       "      <td>...</td>\n",
       "      <td>...</td>\n",
       "      <td>...</td>\n",
       "      <td>...</td>\n",
       "      <td>...</td>\n",
       "      <td>...</td>\n",
       "      <td>...</td>\n",
       "      <td>...</td>\n",
       "      <td>...</td>\n",
       "      <td>...</td>\n",
       "    </tr>\n",
       "    <tr>\n",
       "      <th>218582</th>\n",
       "      <td>7088767324</td>\n",
       "      <td>greensboro</td>\n",
       "      <td>6695</td>\n",
       "      <td>2012.0</td>\n",
       "      <td>volvo</td>\n",
       "      <td>s60</td>\n",
       "      <td>gas</td>\n",
       "      <td>121898.0</td>\n",
       "      <td>automatic</td>\n",
       "      <td>fwd</td>\n",
       "      <td>sedan</td>\n",
       "      <td>silver</td>\n",
       "      <td>nc</td>\n",
       "    </tr>\n",
       "    <tr>\n",
       "      <th>218583</th>\n",
       "      <td>7076307686</td>\n",
       "      <td>syracuse</td>\n",
       "      <td>6300</td>\n",
       "      <td>2014.0</td>\n",
       "      <td>nissan</td>\n",
       "      <td>altima</td>\n",
       "      <td>gas</td>\n",
       "      <td>85000.0</td>\n",
       "      <td>automatic</td>\n",
       "      <td>fwd</td>\n",
       "      <td>sedan</td>\n",
       "      <td>grey</td>\n",
       "      <td>ny</td>\n",
       "    </tr>\n",
       "    <tr>\n",
       "      <th>218584</th>\n",
       "      <td>7093462901</td>\n",
       "      <td>denver</td>\n",
       "      <td>5295</td>\n",
       "      <td>2006.0</td>\n",
       "      <td>audi</td>\n",
       "      <td>a4 2.0t avant quattro</td>\n",
       "      <td>gas</td>\n",
       "      <td>150000.0</td>\n",
       "      <td>automatic</td>\n",
       "      <td>4wd</td>\n",
       "      <td>wagon</td>\n",
       "      <td>custom</td>\n",
       "      <td>co</td>\n",
       "    </tr>\n",
       "    <tr>\n",
       "      <th>218585</th>\n",
       "      <td>7088752165</td>\n",
       "      <td>greensboro</td>\n",
       "      <td>13995</td>\n",
       "      <td>2016.0</td>\n",
       "      <td>nissan</td>\n",
       "      <td>frontier</td>\n",
       "      <td>gas</td>\n",
       "      <td>97545.0</td>\n",
       "      <td>automatic</td>\n",
       "      <td>4wd</td>\n",
       "      <td>pickup</td>\n",
       "      <td>silver</td>\n",
       "      <td>nc</td>\n",
       "    </tr>\n",
       "    <tr>\n",
       "      <th>218586</th>\n",
       "      <td>7088747986</td>\n",
       "      <td>greensboro</td>\n",
       "      <td>6495</td>\n",
       "      <td>2015.0</td>\n",
       "      <td>dodge</td>\n",
       "      <td>dart</td>\n",
       "      <td>other</td>\n",
       "      <td>83521.0</td>\n",
       "      <td>manual</td>\n",
       "      <td>fwd</td>\n",
       "      <td>sedan</td>\n",
       "      <td>red</td>\n",
       "      <td>nc</td>\n",
       "    </tr>\n",
       "  </tbody>\n",
       "</table>\n",
       "<p>218587 rows × 13 columns</p>\n",
       "</div>"
      ],
      "text/plain": [
       "                id      region  price    year manufacturer  \\\n",
       "0       7088743681  greensboro   3995  2004.0        honda   \n",
       "1       7088741418  greensboro  10995  2014.0    chevrolet   \n",
       "2       7088737004  greensboro   3995  2007.0       toyota   \n",
       "3       7088732376  greensboro   7995  2008.0       nissan   \n",
       "4       7093461424      denver   7995  2010.0    chevrolet   \n",
       "...            ...         ...    ...     ...          ...   \n",
       "218582  7088767324  greensboro   6695  2012.0        volvo   \n",
       "218583  7076307686    syracuse   6300  2014.0       nissan   \n",
       "218584  7093462901      denver   5295  2006.0         audi   \n",
       "218585  7088752165  greensboro  13995  2016.0       nissan   \n",
       "218586  7088747986  greensboro   6495  2015.0        dodge   \n",
       "\n",
       "                        model   fuel  odometer transmission drive  \\\n",
       "0                     element    gas  212526.0    automatic   fwd   \n",
       "1                    traverse    gas  112383.0    automatic   fwd   \n",
       "2                      solara    gas  185123.0    automatic   fwd   \n",
       "3                    frontier    gas  162214.0    automatic   fwd   \n",
       "4          silverado 1500 4wd    gas  194050.0    automatic   4wd   \n",
       "...                       ...    ...       ...          ...   ...   \n",
       "218582                    s60    gas  121898.0    automatic   fwd   \n",
       "218583                 altima    gas   85000.0    automatic   fwd   \n",
       "218584  a4 2.0t avant quattro    gas  150000.0    automatic   4wd   \n",
       "218585               frontier    gas   97545.0    automatic   4wd   \n",
       "218586                   dart  other   83521.0       manual   fwd   \n",
       "\n",
       "               type paint_color state  \n",
       "0               SUV      orange    nc  \n",
       "1               SUV       black    nc  \n",
       "2       convertible       black    nc  \n",
       "3            pickup         red    nc  \n",
       "4             truck       white    co  \n",
       "...             ...         ...   ...  \n",
       "218582        sedan      silver    nc  \n",
       "218583        sedan        grey    ny  \n",
       "218584        wagon      custom    co  \n",
       "218585       pickup      silver    nc  \n",
       "218586        sedan         red    nc  \n",
       "\n",
       "[218587 rows x 13 columns]"
      ]
     },
     "execution_count": 2,
     "metadata": {},
     "output_type": "execute_result"
    }
   ],
   "source": [
    "df = pd.read_csv('../Data/vehicles_clean.csv')\n",
    "df"
   ]
  },
  {
   "cell_type": "code",
   "execution_count": 3,
   "metadata": {},
   "outputs": [
    {
     "name": "stderr",
     "output_type": "stream",
     "text": [
      "C:\\Users\\lachlan.mcinnes\\Anaconda3\\lib\\site-packages\\numpy\\core\\_methods.py:217: RuntimeWarning: Degrees of freedom <= 0 for slice\n",
      "  keepdims=keepdims)\n",
      "C:\\Users\\lachlan.mcinnes\\Anaconda3\\lib\\site-packages\\numpy\\core\\_methods.py:207: RuntimeWarning: invalid value encountered in true_divide\n",
      "  ret, rcount, out=ret, casting='unsafe', subok=False)\n",
      "C:\\Users\\lachlan.mcinnes\\Anaconda3\\lib\\site-packages\\scipy\\stats\\stats.py:2419: RuntimeWarning: invalid value encountered in true_divide\n",
      "  return (a - mns) / sstd\n",
      "C:\\Users\\lachlan.mcinnes\\Anaconda3\\lib\\site-packages\\ipykernel_launcher.py:4: UserWarning: Boolean Series key will be reindexed to match DataFrame index.\n",
      "  after removing the cwd from sys.path.\n"
     ]
    }
   ],
   "source": [
    "df['zscore']=df.groupby(['year', 'manufacturer']).price.transform(lambda x : zscore(x,ddof=1))\n",
    "\n",
    "d = df[df['zscore'] < 1]\n",
    "dd = d[df['zscore'] > -1]"
   ]
  },
  {
   "cell_type": "code",
   "execution_count": 4,
   "metadata": {},
   "outputs": [
    {
     "data": {
      "text/plain": [
       "Text(0.5, 1.0, 'Year vs Price')"
      ]
     },
     "execution_count": 4,
     "metadata": {},
     "output_type": "execute_result"
    },
    {
     "data": {
      "image/png": "[encoded data removed]",
      "text/plain": [
       "<Figure size 720x432 with 1 Axes>"
      ]
     },
     "metadata": {
      "needs_background": "light"
     },
     "output_type": "display_data"
    }
   ],
   "source": [
    "plt.figure(figsize=(10,6))\n",
    "sns.scatterplot(x='year',y='price', data=df[df['manufacturer']=='lexus'], color='red')\n",
    "sns.scatterplot(x='year',y='price', data=dd[dd['manufacturer']=='lexus'], color='blue')\n",
    "plt.title('Year vs Price')"
   ]
  },
  {
   "cell_type": "code",
   "execution_count": 5,
   "metadata": {},
   "outputs": [
    {
     "name": "stdout",
     "output_type": "stream",
     "text": [
      "{'acura': 0, 'alfa-romeo': 1, 'audi': 2, 'bmw': 3, 'buick': 4, 'cadillac': 5, 'chevrolet': 6, 'chrysler': 7, 'datsun': 8, 'dodge': 9, 'fiat': 10, 'ford': 11, 'gmc': 12, 'harley-davidson': 13, 'honda': 14, 'hyundai': 15, 'infiniti': 16, 'jaguar': 17, 'jeep': 18, 'kia': 19, 'land rover': 20, 'lexus': 21, 'lincoln': 22, 'mazda': 23, 'mercedes-benz': 24, 'mercury': 25, 'mini': 26, 'mitsubishi': 27, 'nissan': 28, 'pontiac': 29, 'porche': 30, 'ram': 31, 'rover': 32, 'saturn': 33, 'subaru': 34, 'tesla': 35, 'toyota': 36, 'volkswagen': 37, 'volvo': 38, 'ak': 0, 'al': 1, 'ar': 2, 'az': 3, 'ca': 4, 'co': 5, 'ct': 6, 'dc': 7, 'de': 8, 'fl': 9, 'ga': 10, 'hi': 11, 'ia': 12, 'id': 13, 'il': 14, 'in': 15, 'ks': 16, 'ky': 17, 'la': 18, 'ma': 19, 'md': 20, 'me': 21, 'mi': 22, 'mn': 23, 'mo': 24, 'ms': 25, 'mt': 26, 'nc': 27, 'nd': 28, 'ne': 29, 'nh': 30, 'nj': 31, 'nm': 32, 'nv': 33, 'ny': 34, 'oh': 35, 'ok': 36, 'or': 37, 'pa': 38, 'ri': 39, 'sc': 40, 'sd': 41, 'tn': 42, 'tx': 43, 'ut': 44, 'va': 45, 'vt': 46, 'wa': 47, 'wi': 48, 'wv': 49, 'wy': 50}\n"
     ]
    }
   ],
   "source": [
    "man = dd['manufacturer'].unique()\n",
    "man.sort()\n",
    "state = dd['state'].unique()\n",
    "state.sort()\n",
    "dic={}\n",
    "for count, val in enumerate(man):\n",
    "    dic[val]=count\n",
    "for count, val in enumerate(state):\n",
    "    dic[val]=count\n",
    "    \n",
    "print(dic)\n"
   ]
  },
  {
   "cell_type": "code",
   "execution_count": 6,
   "metadata": {},
   "outputs": [],
   "source": [
    "replace = dd[dd['manufacturer']=='mitsubishi'].replace(dic)"
   ]
  },
  {
   "cell_type": "code",
   "execution_count": 7,
   "metadata": {},
   "outputs": [
    {
     "data": {
      "text/html": [
       "<div>\n",
       "<style scoped>\n",
       "    .dataframe tbody tr th:only-of-type {\n",
       "        vertical-align: middle;\n",
       "    }\n",
       "\n",
       "    .dataframe tbody tr th {\n",
       "        vertical-align: top;\n",
       "    }\n",
       "\n",
       "    .dataframe thead th {\n",
       "        text-align: right;\n",
       "    }\n",
       "</style>\n",
       "<table border=\"1\" class=\"dataframe\">\n",
       "  <thead>\n",
       "    <tr style=\"text-align: right;\">\n",
       "      <th></th>\n",
       "      <th>id</th>\n",
       "      <th>region</th>\n",
       "      <th>price</th>\n",
       "      <th>year</th>\n",
       "      <th>manufacturer</th>\n",
       "      <th>model</th>\n",
       "      <th>fuel</th>\n",
       "      <th>odometer</th>\n",
       "      <th>transmission</th>\n",
       "      <th>drive</th>\n",
       "      <th>type</th>\n",
       "      <th>paint_color</th>\n",
       "      <th>state</th>\n",
       "      <th>zscore</th>\n",
       "    </tr>\n",
       "  </thead>\n",
       "  <tbody>\n",
       "    <tr>\n",
       "      <th>234</th>\n",
       "      <td>7092233224</td>\n",
       "      <td>south jersey</td>\n",
       "      <td>3995</td>\n",
       "      <td>2004.0</td>\n",
       "      <td>27</td>\n",
       "      <td>outlander</td>\n",
       "      <td>gas</td>\n",
       "      <td>114010.0</td>\n",
       "      <td>automatic</td>\n",
       "      <td>4wd</td>\n",
       "      <td>SUV</td>\n",
       "      <td>black</td>\n",
       "      <td>31</td>\n",
       "      <td>0.226895</td>\n",
       "    </tr>\n",
       "    <tr>\n",
       "      <th>699</th>\n",
       "      <td>7082449099</td>\n",
       "      <td>richmond</td>\n",
       "      <td>7999</td>\n",
       "      <td>2013.0</td>\n",
       "      <td>27</td>\n",
       "      <td>outlander</td>\n",
       "      <td>gas</td>\n",
       "      <td>72243.0</td>\n",
       "      <td>automatic</td>\n",
       "      <td>4wd</td>\n",
       "      <td>SUV</td>\n",
       "      <td>white</td>\n",
       "      <td>45</td>\n",
       "      <td>-0.543403</td>\n",
       "    </tr>\n",
       "    <tr>\n",
       "      <th>865</th>\n",
       "      <td>7085987176</td>\n",
       "      <td>greensboro</td>\n",
       "      <td>2800</td>\n",
       "      <td>2008.0</td>\n",
       "      <td>27</td>\n",
       "      <td>eclipse</td>\n",
       "      <td>gas</td>\n",
       "      <td>161196.0</td>\n",
       "      <td>automatic</td>\n",
       "      <td>fwd</td>\n",
       "      <td>coupe</td>\n",
       "      <td>silver</td>\n",
       "      <td>27</td>\n",
       "      <td>-0.872583</td>\n",
       "    </tr>\n",
       "    <tr>\n",
       "      <th>1568</th>\n",
       "      <td>7084880646</td>\n",
       "      <td>corvallis/albany</td>\n",
       "      <td>5995</td>\n",
       "      <td>2015.0</td>\n",
       "      <td>27</td>\n",
       "      <td>mirage</td>\n",
       "      <td>gas</td>\n",
       "      <td>101456.0</td>\n",
       "      <td>automatic</td>\n",
       "      <td>fwd</td>\n",
       "      <td>sedan</td>\n",
       "      <td>grey</td>\n",
       "      <td>37</td>\n",
       "      <td>-0.704602</td>\n",
       "    </tr>\n",
       "    <tr>\n",
       "      <th>1951</th>\n",
       "      <td>7080863734</td>\n",
       "      <td>bellingham</td>\n",
       "      <td>17999</td>\n",
       "      <td>2019.0</td>\n",
       "      <td>27</td>\n",
       "      <td>outlander sport se</td>\n",
       "      <td>gas</td>\n",
       "      <td>27195.0</td>\n",
       "      <td>automatic</td>\n",
       "      <td>4wd</td>\n",
       "      <td>SUV</td>\n",
       "      <td>grey</td>\n",
       "      <td>47</td>\n",
       "      <td>0.165470</td>\n",
       "    </tr>\n",
       "    <tr>\n",
       "      <th>...</th>\n",
       "      <td>...</td>\n",
       "      <td>...</td>\n",
       "      <td>...</td>\n",
       "      <td>...</td>\n",
       "      <td>...</td>\n",
       "      <td>...</td>\n",
       "      <td>...</td>\n",
       "      <td>...</td>\n",
       "      <td>...</td>\n",
       "      <td>...</td>\n",
       "      <td>...</td>\n",
       "      <td>...</td>\n",
       "      <td>...</td>\n",
       "      <td>...</td>\n",
       "    </tr>\n",
       "    <tr>\n",
       "      <th>217849</th>\n",
       "      <td>7093124825</td>\n",
       "      <td>south jersey</td>\n",
       "      <td>9999</td>\n",
       "      <td>2015.0</td>\n",
       "      <td>27</td>\n",
       "      <td>outlander</td>\n",
       "      <td>gas</td>\n",
       "      <td>90614.0</td>\n",
       "      <td>automatic</td>\n",
       "      <td>4wd</td>\n",
       "      <td>wagon</td>\n",
       "      <td>black</td>\n",
       "      <td>31</td>\n",
       "      <td>-0.082709</td>\n",
       "    </tr>\n",
       "    <tr>\n",
       "      <th>217910</th>\n",
       "      <td>7093114291</td>\n",
       "      <td>south jersey</td>\n",
       "      <td>1999</td>\n",
       "      <td>2003.0</td>\n",
       "      <td>27</td>\n",
       "      <td>outlander</td>\n",
       "      <td>gas</td>\n",
       "      <td>155000.0</td>\n",
       "      <td>automatic</td>\n",
       "      <td>4wd</td>\n",
       "      <td>wagon</td>\n",
       "      <td>red</td>\n",
       "      <td>31</td>\n",
       "      <td>-0.653550</td>\n",
       "    </tr>\n",
       "    <tr>\n",
       "      <th>218080</th>\n",
       "      <td>7092874145</td>\n",
       "      <td>south jersey</td>\n",
       "      <td>8750</td>\n",
       "      <td>2014.0</td>\n",
       "      <td>27</td>\n",
       "      <td>outlander sport</td>\n",
       "      <td>gas</td>\n",
       "      <td>96220.0</td>\n",
       "      <td>automatic</td>\n",
       "      <td>4wd</td>\n",
       "      <td>wagon</td>\n",
       "      <td>black</td>\n",
       "      <td>31</td>\n",
       "      <td>-0.359301</td>\n",
       "    </tr>\n",
       "    <tr>\n",
       "      <th>218083</th>\n",
       "      <td>7075129228</td>\n",
       "      <td>waterloo / cedar falls</td>\n",
       "      <td>15836</td>\n",
       "      <td>2019.0</td>\n",
       "      <td>27</td>\n",
       "      <td>outlander sport</td>\n",
       "      <td>gas</td>\n",
       "      <td>14919.0</td>\n",
       "      <td>automatic</td>\n",
       "      <td>fwd</td>\n",
       "      <td>SUV</td>\n",
       "      <td>red</td>\n",
       "      <td>12</td>\n",
       "      <td>-0.229364</td>\n",
       "    </tr>\n",
       "    <tr>\n",
       "      <th>218546</th>\n",
       "      <td>7076363490</td>\n",
       "      <td>syracuse</td>\n",
       "      <td>15700</td>\n",
       "      <td>2016.0</td>\n",
       "      <td>27</td>\n",
       "      <td>outlander gt-s awd</td>\n",
       "      <td>gas</td>\n",
       "      <td>68424.0</td>\n",
       "      <td>automatic</td>\n",
       "      <td>4wd</td>\n",
       "      <td>SUV</td>\n",
       "      <td>brown</td>\n",
       "      <td>34</td>\n",
       "      <td>0.763379</td>\n",
       "    </tr>\n",
       "  </tbody>\n",
       "</table>\n",
       "<p>867 rows × 14 columns</p>\n",
       "</div>"
      ],
      "text/plain": [
       "                id                  region  price    year  manufacturer  \\\n",
       "234     7092233224            south jersey   3995  2004.0            27   \n",
       "699     7082449099                richmond   7999  2013.0            27   \n",
       "865     7085987176              greensboro   2800  2008.0            27   \n",
       "1568    7084880646        corvallis/albany   5995  2015.0            27   \n",
       "1951    7080863734              bellingham  17999  2019.0            27   \n",
       "...            ...                     ...    ...     ...           ...   \n",
       "217849  7093124825            south jersey   9999  2015.0            27   \n",
       "217910  7093114291            south jersey   1999  2003.0            27   \n",
       "218080  7092874145            south jersey   8750  2014.0            27   \n",
       "218083  7075129228  waterloo / cedar falls  15836  2019.0            27   \n",
       "218546  7076363490                syracuse  15700  2016.0            27   \n",
       "\n",
       "                     model fuel  odometer transmission drive   type  \\\n",
       "234              outlander  gas  114010.0    automatic   4wd    SUV   \n",
       "699              outlander  gas   72243.0    automatic   4wd    SUV   \n",
       "865                eclipse  gas  161196.0    automatic   fwd  coupe   \n",
       "1568                mirage  gas  101456.0    automatic   fwd  sedan   \n",
       "1951    outlander sport se  gas   27195.0    automatic   4wd    SUV   \n",
       "...                    ...  ...       ...          ...   ...    ...   \n",
       "217849           outlander  gas   90614.0    automatic   4wd  wagon   \n",
       "217910           outlander  gas  155000.0    automatic   4wd  wagon   \n",
       "218080     outlander sport  gas   96220.0    automatic   4wd  wagon   \n",
       "218083     outlander sport  gas   14919.0    automatic   fwd    SUV   \n",
       "218546  outlander gt-s awd  gas   68424.0    automatic   4wd    SUV   \n",
       "\n",
       "       paint_color  state    zscore  \n",
       "234          black     31  0.226895  \n",
       "699          white     45 -0.543403  \n",
       "865         silver     27 -0.872583  \n",
       "1568          grey     37 -0.704602  \n",
       "1951          grey     47  0.165470  \n",
       "...            ...    ...       ...  \n",
       "217849       black     31 -0.082709  \n",
       "217910         red     31 -0.653550  \n",
       "218080       black     31 -0.359301  \n",
       "218083         red     12 -0.229364  \n",
       "218546       brown     34  0.763379  \n",
       "\n",
       "[867 rows x 14 columns]"
      ]
     },
     "execution_count": 7,
     "metadata": {},
     "output_type": "execute_result"
    }
   ],
   "source": [
    "replace"
   ]
  },
  {
   "cell_type": "code",
   "execution_count": 8,
   "metadata": {},
   "outputs": [],
   "source": [
    "feature_cols = ['year']\n",
    "X = replace[feature_cols]\n",
    "y = replace.price\n",
    "\n",
    "Xtrain, Xtest, ytrain, ytest = train_test_split(X, y, test_size=0.3, random_state=42)"
   ]
  },
  {
   "cell_type": "code",
   "execution_count": 9,
   "metadata": {},
   "outputs": [
    {
     "data": {
      "text/html": [
       "<div>\n",
       "<style scoped>\n",
       "    .dataframe tbody tr th:only-of-type {\n",
       "        vertical-align: middle;\n",
       "    }\n",
       "\n",
       "    .dataframe tbody tr th {\n",
       "        vertical-align: top;\n",
       "    }\n",
       "\n",
       "    .dataframe thead th {\n",
       "        text-align: right;\n",
       "    }\n",
       "</style>\n",
       "<table border=\"1\" class=\"dataframe\">\n",
       "  <thead>\n",
       "    <tr style=\"text-align: right;\">\n",
       "      <th></th>\n",
       "      <th>year</th>\n",
       "    </tr>\n",
       "  </thead>\n",
       "  <tbody>\n",
       "    <tr>\n",
       "      <th>119950</th>\n",
       "      <td>2014.0</td>\n",
       "    </tr>\n",
       "    <tr>\n",
       "      <th>191103</th>\n",
       "      <td>2015.0</td>\n",
       "    </tr>\n",
       "    <tr>\n",
       "      <th>33582</th>\n",
       "      <td>1994.0</td>\n",
       "    </tr>\n",
       "  </tbody>\n",
       "</table>\n",
       "</div>"
      ],
      "text/plain": [
       "          year\n",
       "119950  2014.0\n",
       "191103  2015.0\n",
       "33582   1994.0"
      ]
     },
     "execution_count": 9,
     "metadata": {},
     "output_type": "execute_result"
    }
   ],
   "source": [
    "Xtrain[:3]"
   ]
  },
  {
   "cell_type": "code",
   "execution_count": 10,
   "metadata": {},
   "outputs": [
    {
     "data": {
      "text/plain": [
       "119950    6987\n",
       "191103    5995\n",
       "33582     7300\n",
       "Name: price, dtype: int64"
      ]
     },
     "execution_count": 10,
     "metadata": {},
     "output_type": "execute_result"
    }
   ],
   "source": [
    "ytrain[:3]"
   ]
  },
  {
   "cell_type": "code",
   "execution_count": 11,
   "metadata": {},
   "outputs": [
    {
     "data": {
      "text/plain": [
       "DecisionTreeClassifier(ccp_alpha=0.0, class_weight=None, criterion='gini',\n",
       "                       max_depth=5, max_features=None, max_leaf_nodes=None,\n",
       "                       min_impurity_decrease=0.0, min_impurity_split=None,\n",
       "                       min_samples_leaf=1, min_samples_split=2,\n",
       "                       min_weight_fraction_leaf=0.0, presort='deprecated',\n",
       "                       random_state=1, splitter='best')"
      ]
     },
     "execution_count": 11,
     "metadata": {},
     "output_type": "execute_result"
    }
   ],
   "source": [
    "treeclf = DecisionTreeClassifier(max_depth=5, random_state=1)\n",
    "treeclf.fit(Xtrain, ytrain)"
   ]
  },
  {
   "cell_type": "code",
   "execution_count": 12,
   "metadata": {},
   "outputs": [
    {
     "data": {
      "text/plain": [
       "array([ 7999,  9995, 10997,  3000,  3000], dtype=int64)"
      ]
     },
     "execution_count": 12,
     "metadata": {},
     "output_type": "execute_result"
    }
   ],
   "source": [
    "treeclf.predict(Xtrain)[:5]"
   ]
  },
  {
   "cell_type": "code",
   "execution_count": 13,
   "metadata": {},
   "outputs": [
    {
     "data": {
      "text/plain": [
       "119950    6987\n",
       "191103    5995\n",
       "33582     7300\n",
       "40088     3000\n",
       "6963      4995\n",
       "Name: price, dtype: int64"
      ]
     },
     "execution_count": 13,
     "metadata": {},
     "output_type": "execute_result"
    }
   ],
   "source": [
    "ytrain[:5]"
   ]
  },
  {
   "cell_type": "code",
   "execution_count": 14,
   "metadata": {},
   "outputs": [
    {
     "name": "stdout",
     "output_type": "stream",
     "text": [
      "Training accuracy: 0.13366336633663367\n",
      "Testing accuracy: 0.0842911877394636\n"
     ]
    }
   ],
   "source": [
    "print(\"Training accuracy: {}\".format(accuracy_score(ytrain, treeclf.predict(Xtrain))))\n",
    "print(\"Testing accuracy: {}\".format(accuracy_score(ytest, treeclf.predict(Xtest))))"
   ]
  },
  {
   "cell_type": "code",
   "execution_count": 15,
   "metadata": {},
   "outputs": [
    {
     "name": "stdout",
     "output_type": "stream",
     "text": [
      "Accuracy for each fold: [0.08196721 0.13114754 0.1147541  0.1147541  0.13114754 0.08196721\n",
      " 0.1        0.08333333 0.1        0.11666667]\n",
      "Mean Accuracy: 0.10557377049180328\n"
     ]
    },
    {
     "name": "stderr",
     "output_type": "stream",
     "text": [
      "C:\\Users\\lachlan.mcinnes\\Anaconda3\\lib\\site-packages\\sklearn\\model_selection\\_split.py:667: UserWarning: The least populated class in y has only 1 members, which is less than n_splits=10.\n",
      "  % (min_groups, self.n_splits)), UserWarning)\n"
     ]
    }
   ],
   "source": [
    "scores = cross_val_score(treeclf, Xtrain, ytrain, cv=10, scoring='accuracy')\n",
    "print(\"Accuracy for each fold: {}\".format(scores))\n",
    "print(\"Mean Accuracy: {}\".format(np.mean(scores)))"
   ]
  },
  {
   "cell_type": "code",
   "execution_count": 16,
   "metadata": {},
   "outputs": [
    {
     "name": "stderr",
     "output_type": "stream",
     "text": [
      "C:\\Users\\lachlan.mcinnes\\Anaconda3\\lib\\site-packages\\sklearn\\model_selection\\_split.py:667: UserWarning: The least populated class in y has only 1 members, which is less than n_splits=10.\n",
      "  % (min_groups, self.n_splits)), UserWarning)\n"
     ]
    }
   ],
   "source": [
    "max_depth_range = range(1, 15)\n",
    "\n",
    "train_scores, valid_scores = validation_curve(treeclf, Xtrain, ytrain, param_name=\"max_depth\", param_range=max_depth_range,\n",
    "    cv=10, scoring=\"accuracy\")"
   ]
  },
  {
   "cell_type": "code",
   "execution_count": 17,
   "metadata": {},
   "outputs": [
    {
     "data": {
      "text/plain": [
       "array([[0.03278689, 0.03278689, 0.04918033, 0.03278689, 0.04918033,\n",
       "        0.04918033, 0.05      , 0.05      , 0.03333333, 0.03333333],\n",
       "       [0.04918033, 0.06557377, 0.06557377, 0.04918033, 0.06557377,\n",
       "        0.06557377, 0.06666667, 0.06666667, 0.05      , 0.05      ],\n",
       "       [0.04918033, 0.08196721, 0.08196721, 0.06557377, 0.09836066,\n",
       "        0.06557377, 0.08333333, 0.08333333, 0.05      , 0.06666667]])"
      ]
     },
     "execution_count": 17,
     "metadata": {},
     "output_type": "execute_result"
    }
   ],
   "source": [
    "valid_scores[:3]"
   ]
  },
  {
   "cell_type": "code",
   "execution_count": 18,
   "metadata": {},
   "outputs": [
    {
     "data": {
      "text/plain": [
       "array([0.04125683, 0.05939891, 0.07259563])"
      ]
     },
     "execution_count": 18,
     "metadata": {},
     "output_type": "execute_result"
    }
   ],
   "source": [
    "np.mean(valid_scores[:3], axis=1)"
   ]
  },
  {
   "cell_type": "code",
   "execution_count": 19,
   "metadata": {},
   "outputs": [
    {
     "data": {
      "text/plain": [
       "Text(0.5, 1.0, 'Accuracy comparison of training/validation set')"
      ]
     },
     "execution_count": 19,
     "metadata": {},
     "output_type": "execute_result"
    },
    {
     "data": {
      "image/png": "[encoded data removed]",
      "text/plain": [
       "<Figure size 432x288 with 1 Axes>"
      ]
     },
     "metadata": {
      "needs_background": "light"
     },
     "output_type": "display_data"
    }
   ],
   "source": [
    "mean_train_score = np.mean(train_scores, axis=1) \n",
    "mean_val_score   = np.mean(valid_scores, axis=1)\n",
    "\n",
    "plt.plot(max_depth_range, mean_train_score, color=\"blue\", linewidth=1.5, label=\"Training\")\n",
    "plt.plot(max_depth_range, mean_val_score, color=\"red\", linewidth=1.5, label=\"Validation\")\n",
    "plt.legend(loc=\"upper left\")\n",
    "plt.xlabel(\"Tree-depth\")\n",
    "plt.ylabel(\"Model Accuracy\")\n",
    "plt.title(\"Accuracy comparison of training/validation set\")"
   ]
  },
  {
   "cell_type": "code",
   "execution_count": null,
   "metadata": {},
   "outputs": [],
   "source": []
  }
 ],
 "metadata": {
  "kernelspec": {
   "display_name": "Python 3",
   "language": "python",
   "name": "python3"
  },
  "language_info": {
   "codemirror_mode": {
    "name": "ipython",
    "version": 3
   },
   "file_extension": ".py",
   "mimetype": "text/x-python",
   "name": "python",
   "nbconvert_exporter": "python",
   "pygments_lexer": "ipython3",
   "version": "3.7.6"
  }
 },
 "nbformat": 4,
 "nbformat_minor": 2
}
